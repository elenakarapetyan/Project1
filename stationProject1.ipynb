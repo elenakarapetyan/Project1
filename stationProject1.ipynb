{
  "nbformat": 4,
  "nbformat_minor": 0,
  "metadata": {
    "colab": {
      "provenance": []
    },
    "kernelspec": {
      "name": "python3",
      "display_name": "Python 3"
    },
    "language_info": {
      "name": "python"
    }
  },
  "cells": [
    {
      "cell_type": "code",
      "execution_count": null,
      "metadata": {
        "colab": {
          "base_uri": "https://localhost:8080/",
          "height": 389
        },
        "id": "z8fm_w56gwNc",
        "outputId": "6197f45e-b0fb-4a0e-cba4-325309e3dc0f"
      },
      "outputs": [
        {
          "output_type": "error",
          "ename": "KeyboardInterrupt",
          "evalue": "ignored",
          "traceback": [
            "\u001b[0;31m---------------------------------------------------------------------------\u001b[0m",
            "\u001b[0;31mKeyboardInterrupt\u001b[0m                         Traceback (most recent call last)",
            "\u001b[0;32m<ipython-input-1-b97c3e3d21cc>\u001b[0m in \u001b[0;36m<module>\u001b[0;34m\u001b[0m\n\u001b[1;32m     54\u001b[0m \u001b[0;34m\u001b[0m\u001b[0m\n\u001b[1;32m     55\u001b[0m \u001b[0;32melse\u001b[0m\u001b[0;34m:\u001b[0m\u001b[0;34m\u001b[0m\u001b[0;34m\u001b[0m\u001b[0m\n\u001b[0;32m---> 56\u001b[0;31m   \u001b[0mperson_name\u001b[0m \u001b[0;34m=\u001b[0m \u001b[0minput\u001b[0m\u001b[0;34m(\u001b[0m\u001b[0;34m\"Tell me please any name \"\u001b[0m\u001b[0;34m)\u001b[0m\u001b[0;34m\u001b[0m\u001b[0;34m\u001b[0m\u001b[0m\n\u001b[0m\u001b[1;32m     57\u001b[0m   \u001b[0madjective\u001b[0m \u001b[0;34m=\u001b[0m \u001b[0minput\u001b[0m\u001b[0;34m(\u001b[0m\u001b[0;34m\"Input an adjective \"\u001b[0m\u001b[0;34m)\u001b[0m\u001b[0;34m\u001b[0m\u001b[0;34m\u001b[0m\u001b[0m\n\u001b[1;32m     58\u001b[0m   \u001b[0mcolor\u001b[0m \u001b[0;34m=\u001b[0m \u001b[0minput\u001b[0m\u001b[0;34m(\u001b[0m\u001b[0;34m\"What's your favorite color \"\u001b[0m\u001b[0;34m)\u001b[0m\u001b[0;34m\u001b[0m\u001b[0;34m\u001b[0m\u001b[0m\n",
            "\u001b[0;32m/usr/local/lib/python3.8/dist-packages/ipykernel/kernelbase.py\u001b[0m in \u001b[0;36mraw_input\u001b[0;34m(self, prompt)\u001b[0m\n\u001b[1;32m    858\u001b[0m                 \u001b[0;34m\"raw_input was called, but this frontend does not support input requests.\"\u001b[0m\u001b[0;34m\u001b[0m\u001b[0;34m\u001b[0m\u001b[0m\n\u001b[1;32m    859\u001b[0m             )\n\u001b[0;32m--> 860\u001b[0;31m         return self._input_request(str(prompt),\n\u001b[0m\u001b[1;32m    861\u001b[0m             \u001b[0mself\u001b[0m\u001b[0;34m.\u001b[0m\u001b[0m_parent_ident\u001b[0m\u001b[0;34m,\u001b[0m\u001b[0;34m\u001b[0m\u001b[0;34m\u001b[0m\u001b[0m\n\u001b[1;32m    862\u001b[0m             \u001b[0mself\u001b[0m\u001b[0;34m.\u001b[0m\u001b[0m_parent_header\u001b[0m\u001b[0;34m,\u001b[0m\u001b[0;34m\u001b[0m\u001b[0;34m\u001b[0m\u001b[0m\n",
            "\u001b[0;32m/usr/local/lib/python3.8/dist-packages/ipykernel/kernelbase.py\u001b[0m in \u001b[0;36m_input_request\u001b[0;34m(self, prompt, ident, parent, password)\u001b[0m\n\u001b[1;32m    902\u001b[0m             \u001b[0;32mexcept\u001b[0m \u001b[0mKeyboardInterrupt\u001b[0m\u001b[0;34m:\u001b[0m\u001b[0;34m\u001b[0m\u001b[0;34m\u001b[0m\u001b[0m\n\u001b[1;32m    903\u001b[0m                 \u001b[0;31m# re-raise KeyboardInterrupt, to truncate traceback\u001b[0m\u001b[0;34m\u001b[0m\u001b[0;34m\u001b[0m\u001b[0;34m\u001b[0m\u001b[0m\n\u001b[0;32m--> 904\u001b[0;31m                 \u001b[0;32mraise\u001b[0m \u001b[0mKeyboardInterrupt\u001b[0m\u001b[0;34m(\u001b[0m\u001b[0;34m\"Interrupted by user\"\u001b[0m\u001b[0;34m)\u001b[0m \u001b[0;32mfrom\u001b[0m \u001b[0;32mNone\u001b[0m\u001b[0;34m\u001b[0m\u001b[0;34m\u001b[0m\u001b[0m\n\u001b[0m\u001b[1;32m    905\u001b[0m             \u001b[0;32mexcept\u001b[0m \u001b[0mException\u001b[0m \u001b[0;32mas\u001b[0m \u001b[0me\u001b[0m\u001b[0;34m:\u001b[0m\u001b[0;34m\u001b[0m\u001b[0;34m\u001b[0m\u001b[0m\n\u001b[1;32m    906\u001b[0m                 \u001b[0mself\u001b[0m\u001b[0;34m.\u001b[0m\u001b[0mlog\u001b[0m\u001b[0;34m.\u001b[0m\u001b[0mwarning\u001b[0m\u001b[0;34m(\u001b[0m\u001b[0;34m\"Invalid Message:\"\u001b[0m\u001b[0;34m,\u001b[0m \u001b[0mexc_info\u001b[0m\u001b[0;34m=\u001b[0m\u001b[0;32mTrue\u001b[0m\u001b[0;34m)\u001b[0m\u001b[0;34m\u001b[0m\u001b[0;34m\u001b[0m\u001b[0m\n",
            "\u001b[0;31mKeyboardInterrupt\u001b[0m: Interrupted by user"
          ]
        }
      ],
      "source": [
        "import random\n",
        "\n",
        "lst = [1, 2, 3]\n",
        "pick_tamp = random.choice(lst)\n",
        "if pick_tamp == 1 :\n",
        "  number = str(input(\"Pick a number \"))\n",
        "  number2 = str(input(\"Pick a number again \"))\n",
        "  transport = input(\"Mode of Transportation \")\n",
        "  adjective = input(\"Input an adjective \")\n",
        "  adjective2 = input(\"Input an adjective one more time \")\n",
        "  noun = input(\"Input a noun please \")\n",
        "  noun2 = input(\"Input a noun again please \")\n",
        "  body_part = input(\"Input a body part \")\n",
        "  body_part2 = input(\"Input a body part again \")\n",
        "  noun3 = input(\"Input a noun again please \")\n",
        "  verb = input(\"Input verb \")\n",
        "  adjective3 = input(\"Input an adjective one more time \")\n",
        "  silly_word = input(\"say a silly word \")\n",
        "  noun4 = input(\"Input a noun again please \")\n",
        "  color = input(\"color \")\n",
        "  print('''It was about {} mounth ago when I arrived at the hospital in a {}.\n",
        "         The hospital is a/an {} place, there are a lot of {} {} here. \n",
        "         There are nurses here who have {} {}.  If someone wants to come into \n",
        "         my room I told them that they have to {} first. I’ve decorated my room with {}. \n",
        "         Today I talked to a doctor and they were wearing a {} on their {}.\n",
        "         I heard that all doctors {} {} every day for breakfast. The most {} thing\n",
        "        about being in the hospital is the {} !'''.format(number, transport, adjective, adjective2, noun, color, body_part, verb, number2, noun2, noun3, body_part2, verb, noun4, adjective3, silly_word, noun))\n",
        "  \n",
        "elif pick_tamp == 2: \n",
        "  person_name = input(\"Tell me please any name \")\n",
        "  noun = input(\"Input a noun please \")\n",
        "  feeling = input(\"How are yuo feeling? \")\n",
        "  verb = input(\"Input verb \")\n",
        "  feeling2 = input(\"How were you feeling yesterday? \")\n",
        "  animal = input(\"Tell me your favorite animal \")\n",
        "  verb2 = input(\"Input a verb again please \")\n",
        "  color = input(\"color \")\n",
        "  verb3 = input(\"Pleases input verb angain ending in ing \")\n",
        "  adverb = input(\"Pleases input adverb ending in ly \")\n",
        "  number = str(input(\"Pick a number\"))\n",
        "  time = input(\"Tell me any measure of time\")\n",
        "  silly_word = input(\"say a silly word \")\n",
        "  noun2 = input(\"Input a noun again please \")\n",
        "  print(''' This weekend I am going camping with {}. \n",
        "  I packed my lantern, sleeping bag, and {}. I am so {} to \n",
        "  {} in a tent. I am {} we might see a(n) {}, I \n",
        "  hear they’re kind of dangerous. While we’re camping, we are going to hike, fish,\n",
        "   and {}. I have heard that the {} lake is great for {} ). \n",
        "   Then we will {} hike through the forest for {} {}.\n",
        "    If I see a {} {} while hiking, I am going to bring it home as a pet! \n",
        "    At night we will tell {} {} stories and roast {} around the campfire!!\n",
        "    '''.format(person_name, noun, feeling, verb, feeling2,  animal, verb2, color, verb3, adverb, number, time,color, animal, number, silly_word, noun2 ))\n",
        "  \n",
        "\n",
        "else:\n",
        "  person_name = input(\"Tell me please any name \")\n",
        "  adjective = input(\"Input an adjective \")\n",
        "  color = input(\"What's your favorite color \")\n",
        "  animal = input(\"Tell me your favorite animal \")\n",
        "  place = input(\"What is your favorite place \")\n",
        "  adjective2 = input(\"Input an adjective one more time \")\n",
        "  magical_creature = input(\"Input a Magical Creature (Plural) \")\n",
        "  adjective3 = input(\"Input an adjective one more time please \")\n",
        "  magical_creature2 = input(\"Input a Magical Creature (Plural) again please \")\n",
        "  room = input(\"Input room of a house \")\n",
        "  noun = input(\"Input a noun please \")\n",
        "  noun2 = input(\"Input a noun again  please\")\n",
        "  noun3 = input(\"Input a noun (plural) again  please\")\n",
        "  adjective4 = input(\"Input an adjective one more time please \")\n",
        "  noun4 = input(\"Input a noun (plural) again  please \")\n",
        "  number = str(input(\"Pick a number \"))\n",
        "  time = input(\"Tell me any measure of time \")\n",
        "  verb = input(\"Pleases input verb ending in ing \")\n",
        "  adjective5 = input(\"Input an adjective one more time please \")\n",
        "  noun5 = input(\"Input a noun (plural) again  please \")\n",
        "\n",
        "  print('''Dear {}, I am writing to you from a {} castle\n",
        "  in an enchanted forest. I found myself here one day after going for a ride on a {} {} \n",
        "  in {}. There are {} {} and {} {} here! In the {} there is a pool full of {}. I fall asleep each night on a {} of \n",
        "  {} and dream of {} {}. It feels as though I have lived here for {} \n",
        "  {}. I hope one day you can visit, although the only way to get here now is {}\n",
        "  on a {} {} !! '''. format(person_name, adjective, color, animal, place, adjective2, magical_creature, adjective3, magical_creature2, room, noun, noun2, noun3, adjective4, noun4, number, time, verb, adjective5, noun5))\n",
        "\n",
        "\n",
        "print(\"Thank you\")"
      ]
    },
    {
      "cell_type": "code",
      "source": [],
      "metadata": {
        "id": "jFMsRFYpkkBi"
      },
      "execution_count": null,
      "outputs": []
    }
  ]
}